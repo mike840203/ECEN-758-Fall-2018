{
 "cells": [
  {
   "cell_type": "markdown",
   "metadata": {},
   "source": [
    "[ZM] Exercises 14.4, Q3"
   ]
  },
  {
   "cell_type": "code",
   "execution_count": 1,
   "metadata": {},
   "outputs": [
    {
     "data": {
      "image/png": "[encoded data removed]",
      "text/plain": [
       "<matplotlib.figure.Figure at 0x8b10438>"
      ]
     },
     "metadata": {},
     "output_type": "display_data"
    },
    {
     "data": {
      "image/png": "[encoded data removed]",
      "text/plain": [
       "<matplotlib.figure.Figure at 0x9e01198>"
      ]
     },
     "metadata": {},
     "output_type": "display_data"
    },
    {
     "name": "stdout",
     "output_type": "stream",
     "text": [
      "iteration times = 2\n",
      "\n",
      "Mean(result)\n",
      "[ 0.5         0.66666667]\n",
      "[ 5.  1.]\n"
     ]
    }
   ],
   "source": [
    "import matplotlib.pyplot as plt\n",
    "import numpy as np\n",
    "points = [[0.0,2.0],[0.0,0.0],[1.5,0.0],[5.0,0.0],[5.0,2.0]]\n",
    "c1 = [points[i-1] for i in [1,2,4]]\n",
    "c2 = [points[i-1] for i in [3,5]]\n",
    "def plot(c1,c2,times) :   \n",
    "    for i in c1 :\n",
    "        plt.plot(i[0],i[1],'ro')\n",
    "    for i in c2 :\n",
    "        plt.plot(i[0],i[1],'bo')   \n",
    "    plt.plot((np.sum(np.array(c1),axis=0)/len(c1))[0],(np.sum(np.array(c1),axis=0)/len(c1))[1],'rx',label='Mean(result)')\n",
    "    plt.plot((np.sum(np.array(c2),axis=0)/len(c2))[0],(np.sum(np.array(c2),axis=0)/len(c2))[1],'bx',label='Mean(result)')\n",
    "    plt.legend(loc='upper center')\n",
    "    plt.title(\"K-menas Algorithm, iteration times = %d\" %times)\n",
    "    plt.xlabel(\"X1\")\n",
    "    plt.ylabel(\"X2\")\n",
    "    plt.grid()\n",
    "    plt.show()\n",
    "count = 0\n",
    "while True :\n",
    "    plot(c1,c2,count)\n",
    "    center = [np.sum(np.array(c1),axis=0)/len(c1),np.sum(np.array(c2),axis=0)/len(c2)]\n",
    "    c1 , c2 = [] , []\n",
    "    for i in range(len(points)) :\n",
    "        if np.linalg.norm(points[i]-center[0]) < np.linalg.norm(points[i]-center[1]) : # belongs to c1\n",
    "            c1.append(points[i])\n",
    "        else : # belongs to c2\n",
    "            c2.append(points[i])\n",
    "    temp = [list(np.sum(np.array(c1),axis=0)/len(c1)),list(np.sum(np.array(c2),axis=0)/len(c2))]\n",
    "    count += 1\n",
    "    if [list(center[0]),list(center[1])] == temp :\n",
    "        break\n",
    "print \"iteration times = %d\\n\" % count \n",
    "print \"Mean(result)\"\n",
    "for i in center :\n",
    "    print i\n"
   ]
  },
  {
   "cell_type": "code",
   "execution_count": 1,
   "metadata": {},
   "outputs": [
    {
     "name": "stdout",
     "output_type": "stream",
     "text": [
      "-23.0139277167\n",
      "Converged in 1 steps!!\n",
      "\n"
     ]
    }
   ],
   "source": [
    "import numpy as np\n",
    "import matplotlib.pyplot as plt\n",
    "temp = [[0.5,4.5],[2.2,1.5],[3.9,3.5],[2.1,1.9],[0.5,3.2],[0.8,4.3],[2.7,1.1],[2.5,3.5],[2.8,3.9],[0.1,4.1]]\n",
    "points = []\n",
    "for i in range(len(temp)) :\n",
    "    points.append(np.matrix([temp[i]]).T)\n",
    "#---------------------------2D Gaussain------------------------------------------#\n",
    "def gaussain_2D(point,u,sigma) :  \n",
    "    '''\n",
    "    Input :\n",
    "        point : npmatrix - 2x1\n",
    "        u : npmatrix - 2x1\n",
    "        sigma : npmatrix 2x2\n",
    "    output :\n",
    "        probability : npfloat - probability of one point\n",
    "    '''\n",
    "    exp = np.exp(-(point.T-u.T)*np.linalg.inv(sigma)*(point-u)/2)\n",
    "    return (float(exp) / (2*np.pi * np.sqrt(np.absolute(np.linalg.det(sigma)))))\n",
    "#---------------------------Log Likelihood function------------------------------#\n",
    "def loglikelihood(points,u,sigma,p) :\n",
    "    '''\n",
    "    Input :\n",
    "        point : npmatrix - [2x1] * len(points)\n",
    "        u : npmatrix - [2x1] * len(model)\n",
    "        sigma : npmatrix [2x2] * len(model)\n",
    "        p : float [x] * len(model)\n",
    "    output :\n",
    "        mixture_probability : npfloat \n",
    "    '''\n",
    "    mixture_probability = 0.0\n",
    "    for i in range(len(points)) :\n",
    "        temp = 0\n",
    "        for j in range(len(u)) :\n",
    "            temp += p[j] * gaussain_2D(points[i],u[j],sigma[j])\n",
    "        mixture_probability += np.log(temp)\n",
    "    return mixture_probability \n",
    "#---------------------------Estimate step----------------------------------------#\n",
    "def Estimation(points,u,sigma,p) :\n",
    "    '''\n",
    "    Input :\n",
    "        point : npmatrix - [2x1] * len(points)\n",
    "        u : npmatrix - [2x1] * len(model)\n",
    "        sigma : npmatrix [2x2] * len(model)\n",
    "        p : float [x] * len(model)\n",
    "    output :\n",
    "        beta : npmatrix [x]  len(model) x len(points)\n",
    "    '''\n",
    "    beta = []\n",
    "    for i in range(len(points)) :\n",
    "        temp = []\n",
    "        sum = 0\n",
    "        for j in range(len(u)) :\n",
    "            sum += p[j]*gaussain_2D(points[i],u[j],sigma[j])\n",
    "            temp.append(p[j]*gaussain_2D(points[i],u[j],sigma[j]))\n",
    "        beta.append(np.matrix(temp/sum))\n",
    "    return beta\n",
    "#---------------------------Maximization step------------------------------------#\n",
    "def Maximization(points,u,sigma,beta) :\n",
    "    '''\n",
    "    Input :\n",
    "        point : npmatrix - [2x1] * len(points)\n",
    "        u : npmatrix - [2x1] * len(model)\n",
    "        sigma : npmatrix [2x2] * len(model)\n",
    "        beta : list of npmatrix (length of model) x (len of points)\n",
    "    output :\n",
    "        u : npmatrix - [2x1] * len(model)\n",
    "        sigma : npmatrix [2x2] * len(model)\n",
    "        p : float [x] * len(model)\n",
    "    '''\n",
    "    count = 1  # run 100 times\n",
    "    old_mle = 0\n",
    "    while True :\n",
    "        new_mean, new_sigma, new_pi = [] , [] , [] \n",
    "        for i in range(len(u)) :\n",
    "            nom, dom = np.matrix(np.zeros([2,1])) , 0.0\n",
    "            for j in range(len(points)) :\n",
    "                nom += beta[j].item(i) * points[j]\n",
    "                dom += float(beta[j].item(i))\n",
    "            new_mean.append(np.matrix(nom/dom))\n",
    "            \n",
    "        for i in range(len(u)) :\n",
    "            nom, dom = np.matrix(np.zeros([2,2])) , 0.0\n",
    "            for j in range(len(points)) :\n",
    "                nom += beta[j].item(i) * np.matrix(points[j]-new_mean[i]) * np.matrix(points[j]-new_mean[i]).T\n",
    "                dom += float(beta[j].item(i))\n",
    "            new_sigma.append(np.matrix(nom/dom))\n",
    "            \n",
    "        for i in range(len(u)) :\n",
    "            nom=  0.0\n",
    "            for j in range(len(points)) :\n",
    "                nom += beta[j].item(i) \n",
    "            new_pi.append(float(nom/len(points)))\n",
    "        thisround = loglikelihood(points, new_mean, new_sigma, new_pi)\n",
    "        if old_mle == thisround :\n",
    "            print \"Converged in %d steps!!\\n\" %(count-1)\n",
    "            break\n",
    "        else :\n",
    "            print thisround\n",
    "        old_mle = thisround\n",
    "        count +=1\n",
    "        if count > 100 :\n",
    "            break\n",
    "    return new_mean, new_sigma, new_pi\n",
    "#---------------------------Initial parameters (K-means)-------------------------#\n",
    "u = [np.matrix([0.5,4.5]).T,np.matrix([2.2,1.6]).T,np.matrix([3.0,3.5]).T]\n",
    "sigma = [np.matrix([[1,0],[0,1]]) for i in range(3)] # 3 * (2x2) matrix\n",
    "p = [1./3 for i in range(3)]\n",
    "#print loglikelihood(points,u,sigma,p)\n",
    "new_mean, new_sigma, new_pi = Maximization(points,u,sigma,Estimation(points,u,sigma,p))\n",
    "#print \"New mean : \" , x\n",
    "#print \"New sigma : \" , y\n",
    "#print \"New p : \" , z"
   ]
  },
  {
   "cell_type": "code",
   "execution_count": 31,
   "metadata": {},
   "outputs": [
    {
     "data": {
      "image/png": "[encoded data removed]",
      "text/plain": [
       "<matplotlib.figure.Figure at 0xaa8b1d0>"
      ]
     },
     "metadata": {},
     "output_type": "display_data"
    }
   ],
   "source": [
    "x = [temp[i][0] for i in range(len(temp))]\n",
    "y = [temp[i][1] for i in range(len(temp))]\n",
    "plt.plot(x,y,'ro')\n",
    "x = [new_mean[i][0].item(0) for i in range(len(new_mean))]\n",
    "y = [new_mean[i][1].item(0) for i in range(len(new_mean))]\n",
    "plt.plot(x,y,'bx')\n",
    "plt.grid()\n",
    "plt.show()"
   ]
  },
  {
   "cell_type": "code",
   "execution_count": null,
   "metadata": {
    "collapsed": true
   },
   "outputs": [],
   "source": []
  }
 ],
 "metadata": {
  "kernelspec": {
   "display_name": "Python 2",
   "language": "python",
   "name": "python2"
  },
  "language_info": {
   "codemirror_mode": {
    "name": "ipython",
    "version": 2
   },
   "file_extension": ".py",
   "mimetype": "text/x-python",
   "name": "python",
   "nbconvert_exporter": "python",
   "pygments_lexer": "ipython2",
   "version": "2.7.13"
  }
 },
 "nbformat": 4,
 "nbformat_minor": 2
}
