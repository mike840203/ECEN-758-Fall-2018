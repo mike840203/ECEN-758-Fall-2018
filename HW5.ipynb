{
 "cells": [
  {
   "cell_type": "markdown",
   "metadata": {},
   "source": [
    "Exercises 18.5, Q2"
   ]
  },
  {
   "cell_type": "code",
   "execution_count": 58,
   "metadata": {},
   "outputs": [],
   "source": [
    "import numpy as np\n",
    "x1 = [1.0,1.0,5.0]\n",
    "x2 = [1.0,1.0,7.0]\n",
    "x3 = [1.0,0.0,8.0]\n",
    "x4 = [0.0,0.0,3.0]\n",
    "x5 = [0.0,1.0,7.0]\n",
    "x6 = [0.0,1.0,4.0]\n",
    "x7 = [0.0,0.0,5.0]\n",
    "x8 = [1.0,0.0,6.0]\n",
    "x9 = [0.0,1.0,1.0]\n",
    "X = [x1,x2,x3,x4,x5,x6,x7,x8,x9]\n",
    "Y = [\"Y\",\"Y\",\"N\",\"Y\",\"N\",\"N\",\"N\",\"Y\",\"N\"]\n",
    "\n",
    "def NBC(X,Y) :\n",
    "    prior, mean, var , clas = {}, [], [] , []\n",
    "    for i in range(len(set(Y))) :\n",
    "        data , label = [] , [] \n",
    "        clas.append(list(set(Y))[i])\n",
    "        for j in range(len(Y)) :\n",
    "            if clas[i] == Y[j] :\n",
    "                if clas[i] not in prior :\n",
    "                    prior[Y[j]] = 1\n",
    "                else :\n",
    "                    prior[Y[j]] += 1\n",
    "                data.append(X[j])\n",
    "                label.append(Y[j])\n",
    "        temp_u = np.mean(data,axis=0)\n",
    "        temp_z = data - temp_u\n",
    "        temp_var = np.cov(temp_z)*np.eye(len(data))\n",
    "        mean.append(temp_u)\n",
    "        var.append(temp_var)\n",
    "\n",
    "    print(clas)\n",
    "    print(prior)\n",
    "    print(mean)\n",
    "    print(var)"
   ]
  },
  {
   "cell_type": "code",
   "execution_count": 59,
   "metadata": {},
   "outputs": [
    {
     "name": "stdout",
     "output_type": "stream",
     "text": [
      "['Y', 'N']\n",
      "{'Y': 4, 'N': 5}\n",
      "[array([0.75, 0.5 , 5.25]), array([0.2, 0.6, 5. ])]\n",
      "[array([[ 0.14583333, -0.        ,  0.        , -0.        ],\n",
      "       [-0.        ,  0.64583333, -0.        ,  0.        ],\n",
      "       [ 0.        , -0.        ,  0.89583333, -0.        ],\n",
      "       [-0.        ,  0.        , -0.        ,  0.39583333]]), array([[ 3.29333333,  0.        , -0.        ,  0.        , -0.        ],\n",
      "       [ 0.        ,  1.29333333, -0.        ,  0.        , -0.        ],\n",
      "       [-0.        , -0.        ,  0.49333333, -0.        ,  0.        ],\n",
      "       [ 0.        ,  0.        , -0.        ,  0.09333333, -0.        ],\n",
      "       [-0.        , -0.        ,  0.        , -0.        ,  5.69333333]])]\n"
     ]
    }
   ],
   "source": [
    "NBC(X,Y)"
   ]
  },
  {
   "cell_type": "code",
   "execution_count": 141,
   "metadata": {},
   "outputs": [],
   "source": [
    "class NBC(object) :\n",
    "    import math \n",
    "    import numpy as np\n",
    "    def __init__(self) :\n",
    "        self.prior = {}\n",
    "        self.mean = []\n",
    "        self.var = []\n",
    "        self.clas = [] \n",
    "    def fit(self,X,Y) :\n",
    "        self.Y , self.X = Y , X\n",
    "        for i in range(len(set(Y))) :\n",
    "            data = [] \n",
    "            self.clas.append(list(set(self.Y))[i])\n",
    "            for j in range(len(self.Y)) :\n",
    "                if self.clas[i] == self.Y[j] :\n",
    "                    if self.clas[i] not in self.prior :\n",
    "                        self.prior[self.Y[j]] = 1.0\n",
    "                    else :\n",
    "                        self.prior[self.Y[j]] += 1.0\n",
    "                    data.append(self.X[j])\n",
    "            temp_u = np.mean(data,axis=0)\n",
    "            temp_z = np.array(data - temp_u)\n",
    "            temp_var = np.cov(temp_z.T)*np.eye(len(X[0]))\n",
    "            self.mean.append(np.array(temp_u).T)\n",
    "            self.var.append(np.array(temp_var))\n",
    "    def display(self) :\n",
    "        print(self.prior)\n",
    "        print(self.mean)\n",
    "        print(self.var)\n",
    "        print(self.clas)\n",
    "    def test(self,point) :\n",
    "        self.point = np.array(point)\n",
    "        estimate = []\n",
    "        for i in range(len(self.clas)) :\n",
    "            print(self.point)\n",
    "            exp = np.exp(-(self.point.T-self.mean[i].T)*np.linalg.inv(self.var[i])*(self.point-self.mean[i])/2)\n",
    "            print(exp)\n",
    "            guassian = (float(exp) / (math.pow(2*np.pi,len(self.point)/2) * np.sqrt(np.absolute(np.linalg.det(self.var[i])))))\n",
    "            temp = (self.prior[self.clas[i]]/len(self.Y)) * guassian\n",
    "            estimate.append(temp)\n",
    "        print (estiamte)"
   ]
  },
  {
   "cell_type": "code",
   "execution_count": 142,
   "metadata": {},
   "outputs": [],
   "source": [
    "clf = NBC()"
   ]
  },
  {
   "cell_type": "code",
   "execution_count": 143,
   "metadata": {},
   "outputs": [],
   "source": [
    "clf.fit(X,Y)"
   ]
  },
  {
   "cell_type": "code",
   "execution_count": 144,
   "metadata": {},
   "outputs": [
    {
     "name": "stdout",
     "output_type": "stream",
     "text": [
      "[1. 0. 1.]\n",
      "[[0.8824969  1.         1.        ]\n",
      " [1.         0.68728928 1.        ]\n",
      " [1.         1.         0.04521038]]\n"
     ]
    },
    {
     "ename": "TypeError",
     "evalue": "only size-1 arrays can be converted to Python scalars",
     "output_type": "error",
     "traceback": [
      "\u001b[1;31m---------------------------------------------------------------------------\u001b[0m",
      "\u001b[1;31mTypeError\u001b[0m                                 Traceback (most recent call last)",
      "\u001b[1;32m<ipython-input-144-4004db5819bb>\u001b[0m in \u001b[0;36m<module>\u001b[1;34m()\u001b[0m\n\u001b[1;32m----> 1\u001b[1;33m \u001b[0mclf\u001b[0m\u001b[1;33m.\u001b[0m\u001b[0mtest\u001b[0m\u001b[1;33m(\u001b[0m\u001b[1;33m[\u001b[0m\u001b[1;36m1.0\u001b[0m\u001b[1;33m,\u001b[0m\u001b[1;36m0.0\u001b[0m\u001b[1;33m,\u001b[0m\u001b[1;36m1.0\u001b[0m\u001b[1;33m]\u001b[0m\u001b[1;33m)\u001b[0m\u001b[1;33m\u001b[0m\u001b[0m\n\u001b[0m",
      "\u001b[1;32m<ipython-input-141-72d1080c5806>\u001b[0m in \u001b[0;36mtest\u001b[1;34m(self, point)\u001b[0m\n\u001b[0;32m     36\u001b[0m             \u001b[0mexp\u001b[0m \u001b[1;33m=\u001b[0m \u001b[0mnp\u001b[0m\u001b[1;33m.\u001b[0m\u001b[0mexp\u001b[0m\u001b[1;33m(\u001b[0m\u001b[1;33m-\u001b[0m\u001b[1;33m(\u001b[0m\u001b[0mself\u001b[0m\u001b[1;33m.\u001b[0m\u001b[0mpoint\u001b[0m\u001b[1;33m.\u001b[0m\u001b[0mT\u001b[0m\u001b[1;33m-\u001b[0m\u001b[0mself\u001b[0m\u001b[1;33m.\u001b[0m\u001b[0mmean\u001b[0m\u001b[1;33m[\u001b[0m\u001b[0mi\u001b[0m\u001b[1;33m]\u001b[0m\u001b[1;33m.\u001b[0m\u001b[0mT\u001b[0m\u001b[1;33m)\u001b[0m\u001b[1;33m*\u001b[0m\u001b[0mnp\u001b[0m\u001b[1;33m.\u001b[0m\u001b[0mlinalg\u001b[0m\u001b[1;33m.\u001b[0m\u001b[0minv\u001b[0m\u001b[1;33m(\u001b[0m\u001b[0mself\u001b[0m\u001b[1;33m.\u001b[0m\u001b[0mvar\u001b[0m\u001b[1;33m[\u001b[0m\u001b[0mi\u001b[0m\u001b[1;33m]\u001b[0m\u001b[1;33m)\u001b[0m\u001b[1;33m*\u001b[0m\u001b[1;33m(\u001b[0m\u001b[0mself\u001b[0m\u001b[1;33m.\u001b[0m\u001b[0mpoint\u001b[0m\u001b[1;33m-\u001b[0m\u001b[0mself\u001b[0m\u001b[1;33m.\u001b[0m\u001b[0mmean\u001b[0m\u001b[1;33m[\u001b[0m\u001b[0mi\u001b[0m\u001b[1;33m]\u001b[0m\u001b[1;33m)\u001b[0m\u001b[1;33m/\u001b[0m\u001b[1;36m2\u001b[0m\u001b[1;33m)\u001b[0m\u001b[1;33m\u001b[0m\u001b[0m\n\u001b[0;32m     37\u001b[0m             \u001b[0mprint\u001b[0m\u001b[1;33m(\u001b[0m\u001b[0mexp\u001b[0m\u001b[1;33m)\u001b[0m\u001b[1;33m\u001b[0m\u001b[0m\n\u001b[1;32m---> 38\u001b[1;33m             \u001b[0mguassian\u001b[0m \u001b[1;33m=\u001b[0m \u001b[1;33m(\u001b[0m\u001b[0mfloat\u001b[0m\u001b[1;33m(\u001b[0m\u001b[0mexp\u001b[0m\u001b[1;33m)\u001b[0m \u001b[1;33m/\u001b[0m \u001b[1;33m(\u001b[0m\u001b[0mmath\u001b[0m\u001b[1;33m.\u001b[0m\u001b[0mpow\u001b[0m\u001b[1;33m(\u001b[0m\u001b[1;36m2\u001b[0m\u001b[1;33m*\u001b[0m\u001b[0mnp\u001b[0m\u001b[1;33m.\u001b[0m\u001b[0mpi\u001b[0m\u001b[1;33m,\u001b[0m\u001b[0mlen\u001b[0m\u001b[1;33m(\u001b[0m\u001b[0mself\u001b[0m\u001b[1;33m.\u001b[0m\u001b[0mpoint\u001b[0m\u001b[1;33m)\u001b[0m\u001b[1;33m/\u001b[0m\u001b[1;36m2\u001b[0m\u001b[1;33m)\u001b[0m \u001b[1;33m*\u001b[0m \u001b[0mnp\u001b[0m\u001b[1;33m.\u001b[0m\u001b[0msqrt\u001b[0m\u001b[1;33m(\u001b[0m\u001b[0mnp\u001b[0m\u001b[1;33m.\u001b[0m\u001b[0mabsolute\u001b[0m\u001b[1;33m(\u001b[0m\u001b[0mnp\u001b[0m\u001b[1;33m.\u001b[0m\u001b[0mlinalg\u001b[0m\u001b[1;33m.\u001b[0m\u001b[0mdet\u001b[0m\u001b[1;33m(\u001b[0m\u001b[0mself\u001b[0m\u001b[1;33m.\u001b[0m\u001b[0mvar\u001b[0m\u001b[1;33m[\u001b[0m\u001b[0mi\u001b[0m\u001b[1;33m]\u001b[0m\u001b[1;33m)\u001b[0m\u001b[1;33m)\u001b[0m\u001b[1;33m)\u001b[0m\u001b[1;33m)\u001b[0m\u001b[1;33m)\u001b[0m\u001b[1;33m\u001b[0m\u001b[0m\n\u001b[0m\u001b[0;32m     39\u001b[0m             \u001b[0mtemp\u001b[0m \u001b[1;33m=\u001b[0m \u001b[1;33m(\u001b[0m\u001b[0mself\u001b[0m\u001b[1;33m.\u001b[0m\u001b[0mprior\u001b[0m\u001b[1;33m[\u001b[0m\u001b[0mself\u001b[0m\u001b[1;33m.\u001b[0m\u001b[0mclas\u001b[0m\u001b[1;33m[\u001b[0m\u001b[0mi\u001b[0m\u001b[1;33m]\u001b[0m\u001b[1;33m]\u001b[0m\u001b[1;33m/\u001b[0m\u001b[0mlen\u001b[0m\u001b[1;33m(\u001b[0m\u001b[0mself\u001b[0m\u001b[1;33m.\u001b[0m\u001b[0mY\u001b[0m\u001b[1;33m)\u001b[0m\u001b[1;33m)\u001b[0m \u001b[1;33m*\u001b[0m \u001b[0mguassian\u001b[0m\u001b[1;33m\u001b[0m\u001b[0m\n\u001b[0;32m     40\u001b[0m             \u001b[0mestimate\u001b[0m\u001b[1;33m.\u001b[0m\u001b[0mappend\u001b[0m\u001b[1;33m(\u001b[0m\u001b[0mtemp\u001b[0m\u001b[1;33m)\u001b[0m\u001b[1;33m\u001b[0m\u001b[0m\n",
      "\u001b[1;31mTypeError\u001b[0m: only size-1 arrays can be converted to Python scalars"
     ]
    }
   ],
   "source": [
    "clf.test([1.0,0.0,1.0])"
   ]
  },
  {
   "cell_type": "code",
   "execution_count": 132,
   "metadata": {},
   "outputs": [
    {
     "name": "stdout",
     "output_type": "stream",
     "text": [
      "{'Y': 4.0, 'N': 5.0}\n",
      "[array([0.75, 0.5 , 5.25]), array([0.2, 0.6, 5. ])]\n",
      "[array([[0.25      , 0.        , 0.        ],\n",
      "       [0.        , 0.33333333, 0.        ],\n",
      "       [0.        , 0.        , 2.91666667]]), array([[ 0.2, -0. ,  0. ],\n",
      "       [-0. ,  0.3, -0. ],\n",
      "       [ 0. , -0. ,  7.5]])]\n",
      "['Y', 'N']\n"
     ]
    }
   ],
   "source": [
    "clf.display()"
   ]
  },
  {
   "cell_type": "code",
   "execution_count": 86,
   "metadata": {},
   "outputs": [
    {
     "data": {
      "text/plain": [
       "4.5"
      ]
     },
     "execution_count": 86,
     "metadata": {},
     "output_type": "execute_result"
    }
   ],
   "source": []
  },
  {
   "cell_type": "code",
   "execution_count": null,
   "metadata": {},
   "outputs": [],
   "source": []
  }
 ],
 "metadata": {
  "kernelspec": {
   "display_name": "Python 3",
   "language": "python",
   "name": "python3"
  },
  "language_info": {
   "codemirror_mode": {
    "name": "ipython",
    "version": 3
   },
   "file_extension": ".py",
   "mimetype": "text/x-python",
   "name": "python",
   "nbconvert_exporter": "python",
   "pygments_lexer": "ipython3",
   "version": "3.7.0"
  }
 },
 "nbformat": 4,
 "nbformat_minor": 2
}
