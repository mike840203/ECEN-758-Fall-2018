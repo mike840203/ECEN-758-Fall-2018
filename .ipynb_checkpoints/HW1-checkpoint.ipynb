{
 "cells": [
  {
   "cell_type": "markdown",
   "metadata": {},
   "source": []
  },
  {
   "cell_type": "code",
   "execution_count": 158,
   "metadata": {},
   "outputs": [
    {
     "name": "stdout",
     "output_type": "stream",
     "text": [
      "(a)  Find the mean, median, and mode of X\n",
      "     # mean   :  71.45 \n",
      "     # median :  71.50\n",
      "     # mode   :  74.00\n",
      "(b)  What is the sample variance for Y ?\n",
      "     # variance : 1369.21\n",
      "(c)  Plot the probability density function of x ?\n"
     ]
    },
    {
     "data": {
      "image/png": "[encoded data removed]",
      "text/plain": [
       "<Figure size 432x288 with 1 Axes>"
      ]
     },
     "metadata": {},
     "output_type": "display_data"
    },
    {
     "name": "stdout",
     "output_type": "stream",
     "text": [
      "(d)  With what frequency does X > 80 in the data?\n",
      "     # frequency of x > 8/0 : 0 \n",
      "(e)  two dimensional mean and sample covariance matrix.\n",
      "[[ 71]\n",
      " [164]]\n",
      "[[  13.8475  122.435 ]\n",
      " [ 122.435  1369.21  ]]\n",
      "(f)  Compute the correlation between age and weight.\n",
      "     # correlation : 0.8892\n",
      "(g)  Construct a scatter plot of age vs. weight.\n"
     ]
    },
    {
     "data": {
      "image/png": "[encoded data removed]",
      "text/plain": [
       "<Figure size 432x288 with 1 Axes>"
      ]
     },
     "metadata": {},
     "output_type": "display_data"
    }
   ],
   "source": [
    "import numpy as np\n",
    "import math\n",
    "from scipy import stats\n",
    "import matplotlib.pyplot as plt\n",
    "x = np.array([69, 74, 68, 70, 72, 67, 66, 70, 76, 68, 72, 79, 74, 67, 66, 71, 74, 75, 75, 76])\n",
    "y = np.array([153, 175, 155, 135, 172, 150, 115, 137, 200, 130, 140, 265, 185, 112, 140, 150, 165, 185, 210, 220])\n",
    "#--------------------(a)--------------------------------#\n",
    "print \"(a)\" + \"  Find the mean, median, and mode of X\"\n",
    "print \"     # mean   :  %0.2f \" %(np.mean(x)) \n",
    "print \"     # median :  %0.2f\"  %(np.median(x))\n",
    "print \"     # mode   :  %0.2f\"  %(stats.mode(x))[0][0]\n",
    "#--------------------(b)--------------------------------#\n",
    "print \"(b)\" + \"  What is the sample variance for Y ?\"\n",
    "print \"     # variance : %0.2f\" % np.cov(y,y,bias=True)[0][0]\n",
    "#--------------------(c)--------------------------------#\n",
    "print \"(c)\" + \"  Plot the probability density function of x ?\"\n",
    "mean_x = np.mean(x)\n",
    "mean_y = np.mean(y)\n",
    "var_x = np.cov(x,x,bias=True)[0][0]\n",
    "var_y = np.cov(y,y,bias=True)[0][0]\n",
    "std_x = math.sqrt(var_x)\n",
    "std_y = math.sqrt(var_y)\n",
    "scale = 1000\n",
    "axis_x = np.linspace(mean_x-3*std_x,mean_x+3*std_x,scale)\n",
    "pdf_x = stats.norm.pdf(axis_x,mean_x,std_x)\n",
    "plt.plot(axis_x,pdf_x)\n",
    "plt.grid()\n",
    "plt.show()\n",
    "#--------------------(d)--------------------------------#\n",
    "print \"(d)\" + \"  With what frequency does X > 80 in the data?\"\n",
    "count = 0\n",
    "for i in x :\n",
    "    if i > 80 :\n",
    "        count += 1\n",
    "print \"     # frequency of x > 8/0 : %d \" %(count)\n",
    "#--------------------(e)--------------------------------#\n",
    "print \"(e)\" + \"  two dimensional mean and sample covariance matrix.\"\n",
    "twoD_u = np.matrix('%d;%d'%(mean_x,mean_y))\n",
    "print twoD_u\n",
    "covariance_xy = np.cov(x,y,bias=True)\n",
    "print covariance_xy\n",
    "#--------------------(f)--------------------------------#\n",
    "print \"(f)\" + \"  Compute the correlation between age and weight.\"\n",
    "correlation_xy = covariance_xy[0][1]/(std_x*std_y)\n",
    "print \"     # correlation : %0.4f\" % correlation_xy\n",
    "#--------------------(g)--------------------------------#\n",
    "print \"(g)\" + \"  Construct a scatter plot of age vs. weight.\"\n",
    "plt.plot(x,y,'bo')\n",
    "plt.grid()\n",
    "plt.show()"
   ]
  },
  {
   "cell_type": "code",
   "execution_count": 147,
   "metadata": {},
   "outputs": [
    {
     "name": "stdout",
     "output_type": "stream",
     "text": [
      "[[  8   0  10  10   2]\n",
      " [-20  -1 -19 -20   0]]\n",
      "(a)  Compute the sample mean and sample covariance matrix of D.\n",
      "[[  6.]\n",
      " [-12.]]\n",
      "[[ 17.6 -38. ]\n",
      " [-38.   88.4]]\n",
      "(b)  Compute the eigenvalues of covariance matrix of D.\n",
      "[  1.06581088 104.93418912]\n",
      "(C)  What is the dimensionality of the subspace that contains most of the variance of the data?\n",
      "2\n",
      "(D)  Compute the first principal component of D.\n",
      "[ 0.39897876 -0.91696017]\n",
      "(e)  Compute the coordinate of each data point projected on the first principal component.\n",
      "[[8.590424997863094, 0.36584762986325, 8.542945468149366, 8.908793098012616, 0.3183681001495236], [-19.743100037410766, -0.8408159499252382, -19.633979347212026, -20.474795297137263, -0.7316952597265]]\n"
     ]
    },
    {
     "data": {
      "image/png": "[encoded data removed]",
      "text/plain": [
       "<Figure size 432x288 with 1 Axes>"
      ]
     },
     "metadata": {},
     "output_type": "display_data"
    }
   ],
   "source": [
    "import numpy as np\n",
    "import math\n",
    "from scipy import stats\n",
    "import matplotlib.pyplot as plt\n",
    "X1 = np.array([8 , 0 , 10 , 10 , 2])\n",
    "X2 = np.array([-20 , -1 , -19 , -20 , 0])\n",
    "D = np.matrix([X1,X2])\n",
    "print D\n",
    "#--------------------(a)--------------------------------#\n",
    "print \"(a)\" + \"  Compute the sample mean and sample covariance matrix of D.\"\n",
    "mean_D = np.matrix([np.mean(X1),np.mean(X2)]).T\n",
    "print mean_D\n",
    "covariance_D = np.cov(D,bias=True)\n",
    "print covariance_D\n",
    "#--------------------(b)--------------------------------#\n",
    "print \"(b)\" + \"  Compute the eigenvalues of covariance matrix of D.\"\n",
    "eigvalue_D , eigvetor_D = np.linalg.eig(covariance_D)\n",
    "print eigvalue_D\n",
    "#--------------------(c)--------------------------------#\n",
    "print \"(C)\" + \"  What is the dimensionality of the subspace that contains most of the variance of the data?\"\n",
    "print eigvetor_D.ndim\n",
    "#--------------------(d)--------------------------------#\n",
    "print \"(D)\" + \"  Compute the first principal component of D.\"\n",
    "print eigvetor_D.T[1]\n",
    "#--------------------(e)--------------------------------#\n",
    "print \"(e)\" + \"  Compute the coordinate of each data point projected on the first principal component.\"\n",
    "def projection(p1,p2) :\n",
    "    '''\n",
    "    Function :\n",
    "        claculate the projection of p1 on p2\n",
    "    Input  :\n",
    "        p1 : numpy.array (feature1 , feature2)\n",
    "        p2 : numpy.array (feature1 , feature2)\n",
    "    output :\n",
    "        the point that p1 projects on p2\n",
    "    '''\n",
    "    p1 = np.matrix(p1).T\n",
    "    p2 = np.matrix(p2).T\n",
    "    nomi = float(p2.T*p1)\n",
    "    domi = float(p2.T*p2)\n",
    "    return (nomi/domi) * p2\n",
    "out = [[],[]]\n",
    "for i in range(len(X1)) :\n",
    "    temp = np.array([X1[i],X2[i]])\n",
    "    projection_p = projection(temp,eigvetor_D.T[1]).T\n",
    "    out[0].append(projection_p.item(0))\n",
    "    out[1].append(projection_p.item(1))\n",
    "    plt.plot((X1[i],projection_p.item(0)),(X2[i],projection_p.item(1)),'r--')\n",
    "print out\n",
    "plt.plot(X1,X2,'bo')\n",
    "plt.plot((eigvetor_D.T[1][0]*(-1),eigvetor_D.T[1][0]*100),(eigvetor_D.T[1][1]*(-1),eigvetor_D.T[1][1]*100))\n",
    "plt.plot(out[0],out[1],'rx')\n",
    "plt.axis('equal')\n",
    "plt.axis([-2,12,-22,2])\n",
    "plt.grid()\n",
    "plt.show()"
   ]
  },
  {
   "cell_type": "code",
   "execution_count": null,
   "metadata": {},
   "outputs": [],
   "source": [
    "rr = np.matrix([10,0])\n",
    "yy = np.matrix([0.39897876 , - 0.91696017])\n",
    "def projection(p1,p2) :\n",
    "    '''\n",
    "    Function :\n",
    "        claculate the projection of p1 on p2\n",
    "    Input  :\n",
    "        p1 : numpy.array (feature1 , feature2)\n",
    "        p2 : numpy.array (feature1 , feature2)\n",
    "    output :\n",
    "        the point that p1 projects on p2\n",
    "    '''\n",
    "    p1 = np.matrix(p1).T\n",
    "    p2 = np.matrix(p2).T\n",
    "    nomi = float(p2.T*p1)\n",
    "    domi = float(p2.T*p2)\n",
    "    return (nomi/domi) * p2\n",
    "print projection(rr,yy)\n",
    "print rr.T -  projection(rr,yy)"
   ]
  },
  {
   "cell_type": "code",
   "execution_count": null,
   "metadata": {},
   "outputs": [],
   "source": [
    "rr = np.matrix([1,-2])\n",
    "yy = np.matrix([-1,20])\n",
    "print rr.T*yy"
   ]
  },
  {
   "cell_type": "code",
   "execution_count": null,
   "metadata": {},
   "outputs": [],
   "source": []
  }
 ],
 "metadata": {
  "kernelspec": {
   "display_name": "Python 2",
   "language": "python",
   "name": "python2"
  },
  "language_info": {
   "codemirror_mode": {
    "name": "ipython",
    "version": 2
   },
   "file_extension": ".py",
   "mimetype": "text/x-python",
   "name": "python",
   "nbconvert_exporter": "python",
   "pygments_lexer": "ipython2",
   "version": "2.7.15"
  }
 },
 "nbformat": 4,
 "nbformat_minor": 2
}
