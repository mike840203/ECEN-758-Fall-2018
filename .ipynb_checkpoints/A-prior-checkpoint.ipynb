{
 "cells": [
  {
   "cell_type": "code",
   "execution_count": 34,
   "metadata": {},
   "outputs": [],
   "source": [
    "data = [[\"baby-powder\",\"bread\",\"umbrella\",\"diaper\",\"beer\"],\n",
    "[\"baby-powder\",\"milk\",\"umbrella\",\"diaper\"],\n",
    "[\"diaper\",\"beer\"],\n",
    "[\"baby-powder\",\"milk\",\"bread\"],\n",
    "[\"milk\",\"detergent\",\"umbrella\",\"baby-powder\",\"diaper\",\"bread\"],\n",
    "[\"diaper\",\"detergent\",\"bread\",\"milk\",\"coca-cola\",\"umbrella\"],\n",
    "[\"baby-powder\",\"paper-towels\",\"diaper\",\"cookies\",\"chips\",\"detergent\",\"bread\"],\n",
    "[\"beer\"],\n",
    "[\"bread\",\"beer\",\"diaper\",\"coca-cola\",\"baby-powder\"],\n",
    "[\"beer\",\"diaper\"]]\n",
    "minsup = 3"
   ]
  },
  {
   "cell_type": "code",
   "execution_count": 58,
   "metadata": {
    "scrolled": true
   },
   "outputs": [
    {
     "name": "stdout",
     "output_type": "stream",
     "text": [
      "baby-powder 6\n",
      "bread 6\n",
      "umbrella 4\n",
      "diaper 8\n",
      "beer 5\n",
      "milk 4\n",
      "detergent 3\n",
      "[]\n"
     ]
    }
   ],
   "source": [
    "item_frequency1 = []\n",
    "index_frequency1 = []\n",
    "delitem__frequency1 = []\n",
    "def checkplace(list,target) :\n",
    "    for index , element in enumerate(list) :\n",
    "        if element == target :\n",
    "            return index\n",
    "for basket in data :\n",
    "    for items in basket :\n",
    "        if items not in item_frequency1 :\n",
    "            item_frequency1.append(items)\n",
    "            index_frequency1.append(1)\n",
    "        else :\n",
    "            index_frequency1[checkplace(item_frequency1,items)] += 1\n",
    "delitem__frequency1 = []\n",
    "for index , element in enumerate(item_frequency1):\n",
    "    if index_frequency1[index] >= minsup :\n",
    "        print element , index_frequency1[index]\n",
    "    else :\n",
    "        delitem__frequency1.append(index)\n",
    "for i in range(len(delitem__frequency1)-1,-1,-1) :\n",
    "    del item_frequency1[delitem__frequency1[i]]\n",
    "    del index_frequency1[delitem__frequency1[i]]\n",
    "item_frequency2 = []\n",
    "final_frequency2 = []\n",
    "for index in range(len(final_frequency2)) :\n",
    "    for jdex in range(index+1,len(final_frequency2)) :\n",
    "        item_frequency2.append([final_frequency2[index],final_frequency2[jdex]])\n",
    "print item_frequency2"
   ]
  },
  {
   "cell_type": "code",
   "execution_count": null,
   "metadata": {},
   "outputs": [],
   "source": []
  },
  {
   "cell_type": "code",
   "execution_count": null,
   "metadata": {},
   "outputs": [],
   "source": []
  },
  {
   "cell_type": "code",
   "execution_count": null,
   "metadata": {},
   "outputs": [],
   "source": []
  }
 ],
 "metadata": {
  "kernelspec": {
   "display_name": "Python 2",
   "language": "python",
   "name": "python2"
  },
  "language_info": {
   "codemirror_mode": {
    "name": "ipython",
    "version": 2
   },
   "file_extension": ".py",
   "mimetype": "text/x-python",
   "name": "python",
   "nbconvert_exporter": "python",
   "pygments_lexer": "ipython2",
   "version": "2.7.15"
  }
 },
 "nbformat": 4,
 "nbformat_minor": 2
}
