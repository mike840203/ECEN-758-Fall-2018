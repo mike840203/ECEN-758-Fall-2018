{
 "cells": [
  {
   "cell_type": "code",
   "execution_count": 11,
   "metadata": {},
   "outputs": [],
   "source": [
    "data = [[1,3,5,6],[2,3,4,5,6],[1,2,3,5,6],[1,6],[2,3,4,5]]\n",
    "label = [\"A\",\"B\",\"C\",\"D\",\"E\"]\n",
    "minsup = 3"
   ]
  },
  {
   "cell_type": "code",
   "execution_count": 30,
   "metadata": {},
   "outputs": [
    {
     "name": "stdout",
     "output_type": "stream",
     "text": [
      "***************\n",
      "['A']\n",
      "[3, 5, 6]\n",
      "\n",
      "['B']\n",
      "[1, 3, 5, 6]\n",
      "\n",
      "['C']\n",
      "[2, 3, 5, 6]\n",
      "\n",
      "['E']\n",
      "[2, 3, 4, 5]\n",
      "\n",
      "***************\n",
      "['A', 'B']\n",
      "[3, 5, 6]\n",
      "\n",
      "['A', 'C']\n",
      "[1, 3, 5, 6]\n",
      "\n",
      "['B', 'C']\n",
      "[2, 3, 5, 6]\n",
      "\n",
      "['B', 'E']\n",
      "[2, 3, 4, 5]\n",
      "\n",
      "['C', 'E']\n",
      "[2, 3, 5]\n",
      "\n",
      "***************\n",
      "['A', 'B', 'C']\n",
      "[3, 5, 6]\n",
      "\n",
      "['B', 'C', 'E']\n",
      "[2, 3, 5]\n",
      "\n"
     ]
    }
   ],
   "source": [
    "finallist0 = []\n",
    "label0 = []\n",
    "for i in range(len(data)) :\n",
    "    if len(data[i]) >= minsup :\n",
    "        finallist0.append(data[i])\n",
    "        label0.append(label[i])\n",
    "finallist1 = []\n",
    "label1 = []\n",
    "for i in range(len(data)-1) :\n",
    "    for j in range(i+1,len(data)) :\n",
    "        if len(set(data[i]) & set(data[j])) >= minsup :\n",
    "            label1.append([i,j])\n",
    "            finallist1.append(list((set(data[i]) & set(data[j]))))\n",
    "finallist2 = []\n",
    "label2 = []\n",
    "for i in range(len(label1)-1) :\n",
    "    for j in range(i+1,len(label1)) :\n",
    "        if (set(label1[i]) & set(label1[j])) and len(set(label1[i]) | set(label1[j])) == 3 :\n",
    "            if len(set(finallist1[i]) & set(finallist1[j])) >= minsup :\n",
    "                temp = set(label1[i]) | set(label1[j])\n",
    "                for index in range(len(label2)) :\n",
    "                    if temp.issubset(label2[index]) :\n",
    "                        break \n",
    "                    if index == len(label2) -1 :\n",
    "                        label2.append(list(temp))\n",
    "                        finallist2.append(list((set(finallist1[i]) & set(finallist1[j]))))\n",
    "                if len(label2) == 0 :\n",
    "                    label2.append(list(temp))\n",
    "                    finallist2.append(list((set(finallist1[i]) & set(finallist1[j]))))\n",
    "print '***************'              \n",
    "for i in range(len(finallist0)) :\n",
    "    print [label0[i]]\n",
    "    print finallist1[i]\n",
    "    print             \n",
    "print '***************'              \n",
    "for i in range(len(finallist1)) :\n",
    "    temp = [label[x] for x in label1[i]]\n",
    "    print temp\n",
    "    print finallist1[i]\n",
    "    print\n",
    "print '***************'\n",
    "for i in range(len(finallist2)) :\n",
    "    temp = [label[x] for x in label2[i]]\n",
    "    print temp\n",
    "    print finallist2[i]\n",
    "    print"
   ]
  },
  {
   "cell_type": "code",
   "execution_count": null,
   "metadata": {},
   "outputs": [],
   "source": []
  },
  {
   "cell_type": "code",
   "execution_count": null,
   "metadata": {},
   "outputs": [],
   "source": []
  }
 ],
 "metadata": {
  "kernelspec": {
   "display_name": "Python 2",
   "language": "python",
   "name": "python2"
  },
  "language_info": {
   "codemirror_mode": {
    "name": "ipython",
    "version": 2
   },
   "file_extension": ".py",
   "mimetype": "text/x-python",
   "name": "python",
   "nbconvert_exporter": "python",
   "pygments_lexer": "ipython2",
   "version": "2.7.15"
  }
 },
 "nbformat": 4,
 "nbformat_minor": 2
}
