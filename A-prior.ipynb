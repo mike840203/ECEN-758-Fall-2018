{
 "cells": [
  {
   "cell_type": "code",
   "execution_count": 136,
   "metadata": {},
   "outputs": [],
   "source": [
    "data1 = [[\"baby-powder\",\"bread\",\"umbrella\",\"diaper\",\"beer\"],\n",
    "[\"baby-powder\",\"milk\",\"umbrella\",\"diaper\"],\n",
    "[\"diaper\",\"beer\"],\n",
    "[\"baby-powder\",\"milk\",\"bread\"],\n",
    "[\"milk\",\"detergent\",\"umbrella\",\"baby-powder\",\"diaper\",\"bread\"],\n",
    "[\"diaper\",\"detergent\",\"bread\",\"milk\",\"coca-cola\",\"umbrella\"],\n",
    "[\"baby-powder\",\"paper-towels\",\"diaper\",\"cookies\",\"chips\",\"detergent\",\"bread\"],\n",
    "[\"beer\"],\n",
    "[\"bread\",\"beer\",\"diaper\",\"coca-cola\",\"baby-powder\"],\n",
    "[\"bread\",\"beer\",\"diaper\",\"coca-cola\",\"baby-powder\"],\n",
    "[\"bread\",\"beer\",\"diaper\",\"coca-cola\",\"baby-powder\"],\n",
    "[\"beer\",\"diaper\"],\n",
    "[\"diaper\",\"detergent\",\"bread\",\"beer\"],[\"chips\",\"detergent\",\"bread\",\"baby-powder\",\"milk\"],[\"diaper\",\"beer\",\"coca-cola\",\"baby-powder\"]]\n",
    "data = [[\"A\",\"B\",\"C\",\"D\"],[\"A\",\"C\",\"D\",\"F\"],[\"A\",\"C\",\"D\",\"E\",\"G\"],[\"A\",\"B\",\"D\",\"F\"],[\"B\",\"C\",\"G\"],[\"D\",\"G\",\"F\"],[\"A\",\"B\",\"G\"],[\"C\",\"D\",\"F\",\"G\"]]\n",
    "data = [[2,3,6,7],[1,3,4,8,11],[3,9,11],[1,5,6,7],[1,3,8,10,11],[3,5,7,9,11],[4,6,8,10,11],[1,3,5,8,11]]\n",
    "data = [[12,14,6,15],[1,12,14,13,15],[1,14,6,15],[12,13,14,15],[1,12,13,14,15],[12,15,14],[6,12,13,14,15],[1,12,13,14,15]]\n",
    "minsup = 7"
   ]
  },
  {
   "cell_type": "code",
   "execution_count": 137,
   "metadata": {},
   "outputs": [
    {
     "name": "stdout",
     "output_type": "stream",
     "text": [
      "Frequent 1 item\n",
      "12\n",
      "14\n",
      "15\n",
      "\n",
      "Frequent 2 item\n",
      "[12, 14]\n",
      "[12, 15]\n",
      "[14, 15]\n",
      "\n",
      "Frequent 3 item\n",
      "[12, 14, 15]\n",
      "\n",
      "\n",
      "\n",
      "\n",
      "\n",
      "\n",
      "\n",
      "\n"
     ]
    }
   ],
   "source": [
    "out = []\n",
    "item_frequency1 = []\n",
    "final_frequency1 = []\n",
    "for basket in data :\n",
    "    for items in basket :\n",
    "        if items not in item_frequency1 :\n",
    "            item_frequency1.append(items)\n",
    "temp = 0\n",
    "for items in item_frequency1 :\n",
    "    for basket in data :\n",
    "        if set([items]).issubset(basket) :\n",
    "            temp += 1\n",
    "        if temp >= minsup :\n",
    "            out.append(items)\n",
    "            final_frequency1.append(items)\n",
    "            break\n",
    "    temp = 0\n",
    "print \"Frequent 1 item\"\n",
    "final_frequency1 = sorted(final_frequency1)\n",
    "for i in final_frequency1 :\n",
    "    print i \n",
    "print \n",
    "item_frequency2 = []\n",
    "final_frequency2 = []\n",
    "for index in range(len(final_frequency1)) :\n",
    "    for jdex in range(index+1,len(final_frequency1)) :\n",
    "        item_frequency2.append([final_frequency1[index],final_frequency1[jdex]])\n",
    "temp = 0\n",
    "for items in item_frequency2 :\n",
    "    for basket in data :\n",
    "        if set(items).issubset(basket) :\n",
    "            temp += 1\n",
    "        if temp >= minsup :\n",
    "            out.append(items)\n",
    "            final_frequency2.append(items)\n",
    "            break\n",
    "    temp = 0\n",
    "print \"Frequent 2 item\"\n",
    "final_frequency2 = sorted(final_frequency2)\n",
    "for i in final_frequency2 :\n",
    "    print i\n",
    "print \n",
    "def item_frquency_levelk(minisup,data,prevout,level) :\n",
    "    # Creat candidate list\n",
    "    list_candidate = []\n",
    "    final_candidate = []\n",
    "    for i in range(len(prevout)) :\n",
    "        for j in range(i+1,len(prevout)) :\n",
    "            set_temp = set(prevout[i]) & set(prevout[j])\n",
    "            if set_temp and len(list(set_temp)) >= level - 2 :\n",
    "                len_list_candidate = len(list_candidate)\n",
    "                for index in range(len_list_candidate) :\n",
    "                    if (set(prevout[i]) | set(prevout[j])).issubset(set(list_candidate[index])) :\n",
    "                        break\n",
    "                    if index == len_list_candidate - 1 :\n",
    "                        list_candidate.append(sorted((set(prevout[i]) | set(prevout[j]))))\n",
    "                if len_list_candidate == 0 :\n",
    "                    list_candidate.append(sorted((set(prevout[i]) | set(prevout[j]))))\n",
    "    temp = 0\n",
    "    for items in list_candidate :\n",
    "        for basket in data :\n",
    "            if set(items).issubset(basket) :\n",
    "                temp += 1\n",
    "            if temp >= minisup :\n",
    "                \n",
    "                final_candidate.append(items)\n",
    "                break\n",
    "        temp = 0\n",
    "    if len(final_candidate) > 0 : \n",
    "        print (\"Frequent %d item\" %(level))\n",
    "        for i in final_candidate :\n",
    "            print i\n",
    "        print \n",
    "    if len(final_candidate) > 0 :\n",
    "        item_frquency_levelk(minisup,data,final_candidate,level+1)\n",
    "    \n",
    "item_frquency_levelk(minsup,data,final_frequency2,3) \n",
    "print \n",
    "print \n",
    "print \n",
    "print \n",
    "print \n",
    "print \n",
    "print "
   ]
  },
  {
   "cell_type": "code",
   "execution_count": 108,
   "metadata": {},
   "outputs": [
    {
     "name": "stdout",
     "output_type": "stream",
     "text": [
      "set(['umbrella', 'baby-powder', 'bread'])\n",
      "<type 'list'>\n",
      "True\n"
     ]
    }
   ],
   "source": [
    "x = ['baby-powder', 'bread']\n",
    "t = ['bread', 'umbrella']\n",
    "a = [set(['baby-powder','bread', 'umbrella'])]\n",
    "y = []\n",
    "print (set(x)|set(t))\n",
    "print type(sorted((set(x)|set(t))))\n",
    "print (set(x)|set(t)).issubset((set(a[0])))\n",
    "\n"
   ]
  },
  {
   "cell_type": "code",
   "execution_count": null,
   "metadata": {},
   "outputs": [],
   "source": []
  },
  {
   "cell_type": "code",
   "execution_count": null,
   "metadata": {},
   "outputs": [],
   "source": []
  },
  {
   "cell_type": "code",
   "execution_count": null,
   "metadata": {},
   "outputs": [],
   "source": []
  }
 ],
 "metadata": {
  "kernelspec": {
   "display_name": "Python 2",
   "language": "python",
   "name": "python2"
  },
  "language_info": {
   "codemirror_mode": {
    "name": "ipython",
    "version": 2
   },
   "file_extension": ".py",
   "mimetype": "text/x-python",
   "name": "python",
   "nbconvert_exporter": "python",
   "pygments_lexer": "ipython2",
   "version": "2.7.15"
  }
 },
 "nbformat": 4,
 "nbformat_minor": 2
}
