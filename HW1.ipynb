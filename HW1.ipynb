{
 "cells": [
  {
   "cell_type": "code",
   "execution_count": 120,
   "metadata": {},
   "outputs": [
    {
     "name": "stdout",
     "output_type": "stream",
     "text": [
      "(a)  Find the mean, median, and mode of X\n",
      "     # mean   :  71.45 \n",
      "     # median :  71.50\n",
      "     # mode   :  74.00\n",
      "(b)  What is the sample variance for Y ?\n",
      "     # variance : 1369.21\n",
      "(c)  Plot the probability density function of x ?\n"
     ]
    },
    {
     "data": {
      "image/png": "[encoded data removed]",
      "text/plain": [
       "<matplotlib.figure.Figure at 0xe37e4a8>"
      ]
     },
     "metadata": {},
     "output_type": "display_data"
    },
    {
     "name": "stdout",
     "output_type": "stream",
     "text": [
      "(d)  With what frequency does X > 80 in the data?\n",
      "     # frequency of x > 8/0 : 0 \n",
      "(e)  two dimensional mean and sample covariance matrix.\n",
      "[[ 71]\n",
      " [164]]\n",
      "[[   13.8475   122.435 ]\n",
      " [  122.435   1369.21  ]]\n",
      "(f)  Compute the correlation between age and weight.\n",
      "     # correlation : 0.8892\n",
      "(g)  Construct a scatter plot of age vs. weight.\n"
     ]
    },
    {
     "data": {
      "image/png": "[encoded data removed]",
      "text/plain": [
       "<matplotlib.figure.Figure at 0xd422780>"
      ]
     },
     "metadata": {},
     "output_type": "display_data"
    }
   ],
   "source": [
    "import numpy as np\n",
    "import math\n",
    "from scipy import stats\n",
    "import matplotlib.pyplot as plt\n",
    "x = np.array([69, 74, 68, 70, 72, 67, 66, 70, 76, 68, 72, 79, 74, 67, 66, 71, 74, 75, 75, 76])\n",
    "y = np.array([153, 175, 155, 135, 172, 150, 115, 137, 200, 130, 140, 265, 185, 112, 140, 150, 165, 185, 210, 220])\n",
    "print \"(a)\" + \"  Find the mean, median, and mode of X\"\n",
    "print \"     # mean   :  %0.2f \" %(np.mean(x)) \n",
    "print \"     # median :  %0.2f\"  %(np.median(x))\n",
    "print \"     # mode   :  %0.2f\"  %(stats.mode(x))[0][0]\n",
    "print \"(b)\" + \"  What is the sample variance for Y ?\"\n",
    "print \"     # variance : %0.2f\" % np.cov(y,y,bias=True)[0][0]\n",
    "print \"(c)\" + \"  Plot the probability density function of x ?\"\n",
    "mean_x = np.mean(x)\n",
    "mean_y = np.mean(y)\n",
    "var_x = np.cov(x,x,bias=True)[0][0]\n",
    "var_y = np.cov(y,y,bias=True)[0][0]\n",
    "std_x = math.sqrt(var_x)\n",
    "std_y = math.sqrt(var_y)\n",
    "scale = 1000\n",
    "axis_x = np.linspace(mean_x-3*std_x,mean_x+3*std_x,scale)\n",
    "pdf_x = stats.norm.pdf(axis_x,mean_x,std_x)\n",
    "plt.plot(axis_x,pdf_x)\n",
    "plt.grid()\n",
    "plt.show()\n",
    "print \"(d)\" + \"  With what frequency does X > 80 in the data?\"\n",
    "count = 0\n",
    "for i in x :\n",
    "    if i > 80 :\n",
    "        count += 1\n",
    "print \"     # frequency of x > 8/0 : %d \" %(count)\n",
    "print \"(e)\" + \"  two dimensional mean and sample covariance matrix.\"\n",
    "twoD_u = np.matrix('%d;%d'%(mean_x,mean_y))\n",
    "print twoD_u\n",
    "covariance_xy = np.cov(x,y,bias=True)\n",
    "print covariance_xy\n",
    "print \"(f)\" + \"  Compute the correlation between age and weight.\"\n",
    "correlation_xy = covariance_xy[0][1]/(std_x*std_y)\n",
    "print \"     # correlation : %0.4f\" % correlation_xy\n",
    "print \"(g)\" + \"  Construct a scatter plot of age vs. weight.\"\n",
    "plt.plot(x,y,'bo')\n",
    "plt.grid()\n",
    "plt.show()"
   ]
  },
  {
   "cell_type": "code",
   "execution_count": 160,
   "metadata": {},
   "outputs": [
    {
     "name": "stdout",
     "output_type": "stream",
     "text": [
      "[[  8   0  10  10   2]\n",
      " [-20  -1 -19 -20   0]]\n",
      "(a)  Compute the sample mean and sample covariance matrix of D.\n",
      "[[  6.]\n",
      " [-12.]]\n",
      "[[ 17.6 -38. ]\n",
      " [-38.   88.4]]\n",
      "(b)  Compute the eigenvalues of covariance matrix of D.\n",
      "[   1.06581088  104.93418912]\n",
      "(C)  What is the dimensionality of the subspace that contains most of the variance of the data?\n",
      "2\n",
      "(D)  Compute the first principal component of D.\n",
      "104.934189124\n"
     ]
    }
   ],
   "source": [
    "import numpy as np\n",
    "import math\n",
    "from scipy import stats\n",
    "import matplotlib.pyplot as plt\n",
    "X1 = np.array([8 , 0 , 10 , 10 , 2])\n",
    "X2 = np.array([-20 , -1 , -19 , -20 , 0])\n",
    "D = np.matrix([X1,X2])\n",
    "print D\n",
    "print \"(a)\" + \"  Compute the sample mean and sample covariance matrix of D.\"\n",
    "mean_D = np.matrix([np.mean(X1),np.mean(X2)]).T\n",
    "print mean_D\n",
    "covariance_D = np.cov(D,bias=True)\n",
    "print covariance_D\n",
    "print \"(b)\" + \"  Compute the eigenvalues of covariance matrix of D.\"\n",
    "eigvalue_D , eigvetor_D = np.linalg.eig(covariance_D)\n",
    "print eigvalue_D\n",
    "print \"(C)\" + \"  What is the dimensionality of the subspace that contains most of the variance of the data?\"\n",
    "print eigvetor_D.ndim\n",
    "print \"(D)\" + \"  Compute the first principal component of D.\"\n",
    "print max(eigvalue_D)\n"
   ]
  },
  {
   "cell_type": "code",
   "execution_count": null,
   "metadata": {},
   "outputs": [],
   "source": []
  },
  {
   "cell_type": "code",
   "execution_count": null,
   "metadata": {
    "collapsed": true
   },
   "outputs": [],
   "source": []
  }
 ],
 "metadata": {
  "kernelspec": {
   "display_name": "Python 2",
   "language": "python",
   "name": "python2"
  },
  "language_info": {
   "codemirror_mode": {
    "name": "ipython",
    "version": 2
   },
   "file_extension": ".py",
   "mimetype": "text/x-python",
   "name": "python",
   "nbconvert_exporter": "python",
   "pygments_lexer": "ipython2",
   "version": "2.7.13"
  }
 },
 "nbformat": 4,
 "nbformat_minor": 2
}
